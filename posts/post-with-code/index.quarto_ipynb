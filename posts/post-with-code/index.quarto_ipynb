{
  "cells": [
    {
      "cell_type": "markdown",
      "metadata": {},
      "source": [
        "---\n",
        "title: \"Post With Code\"\n",
        "author: \"Harlow Malloc\"\n",
        "date: \"2024-12-24\"\n",
        "categories: [news, code, analysis]\n",
        "image: \"image.jpg\"\n",
        "---\n",
        "\n",
        "\n",
        "\n",
        "\n",
        "This is a post with executable code.\n"
      ],
      "id": "e9522fb3"
    },
    {
      "cell_type": "code",
      "metadata": {},
      "source": [
        "print(\"Hola mundo!\")"
      ],
      "id": "468dc266",
      "execution_count": null,
      "outputs": []
    }
  ],
  "metadata": {
    "kernelspec": {
      "display_name": "Python 3",
      "language": "python",
      "name": "python3"
    }
  },
  "nbformat": 4,
  "nbformat_minor": 5
}